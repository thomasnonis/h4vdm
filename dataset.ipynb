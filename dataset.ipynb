{
 "cells": [
  {
   "cell_type": "markdown",
   "metadata": {},
   "source": [
    "### Imports"
   ]
  },
  {
   "cell_type": "code",
   "execution_count": null,
   "metadata": {},
   "outputs": [],
   "source": [
    "import os\n",
    "import pickle\n",
    "import random\n",
    "from packages.dataset import *\n",
    "from packages.video_utils import H264Extractor, VideoHandler, Gop\n",
    "from packages.constants import GOP_SIZE, FRAME_WIDTH, FRAME_HEIGHT, DATASET_ROOT"
   ]
  },
  {
   "cell_type": "markdown",
   "metadata": {},
   "source": [
    "### Constants"
   ]
  },
  {
   "cell_type": "code",
   "execution_count": null,
   "metadata": {},
   "outputs": [],
   "source": [
    "FILENAME = 'datasets/VISION_files.txt'\n",
    "# DATASET_ROOT = 'datasets/VISION'\n",
    "if not os.path.exists(DATASET_ROOT):\n",
    "    raise Exception('Dataset root does not exist!')\n",
    "\n",
    "PROJECT_PATH = os.getcwd()\n",
    "\n",
    "BIN_PATH = os.path.abspath(os.path.join(PROJECT_PATH, 'h264-extractor', 'bin'))\n",
    "H264_BIN_PATH = os.path.join(BIN_PATH, 'h264dec_ext_info')"
   ]
  },
  {
   "cell_type": "markdown",
   "metadata": {},
   "source": [
    "### Utility functions"
   ]
  },
  {
   "cell_type": "code",
   "execution_count": null,
   "metadata": {},
   "outputs": [],
   "source": [
    "# URL example\n",
    "# https://lesc.dinfo.unifi.it/VISION/dataset/D01_Samsung_GalaxyS3Mini/videos/flatWA/D01_V_flatWA_panrot_0001.mp4\n",
    "\n",
    "def parse_url(url):\n",
    "    structure = url.split('https://lesc.dinfo.unifi.it/VISION/dataset/')[1].split('/')\n",
    "    device = structure[0]\n",
    "    media_type = structure[1]\n",
    "    property = structure[2]\n",
    "    name = structure[3]\n",
    "\n",
    "    return device, media_type, property, name\n",
    "\n",
    "def download(url, path):\n",
    "    if not os.path.exists(path):\n",
    "        os.makedirs(path)\n",
    "    os.system(f'wget -P {path} {url}')\n",
    "\n",
    "def get_videos_structure_from_url_file(filename):\n",
    "    videos = []\n",
    "    with open(filename) as f:\n",
    "        urls = f.readlines()\n",
    "\n",
    "        for url in urls:\n",
    "            url = url.split('\\n')[0]\n",
    "            device, media_type, property, name = parse_url(url)\n",
    "\n",
    "            if media_type == 'videos' and name.endswith('.mp4'):\n",
    "                videos.append((url, device, media_type, property, name))\n",
    "        \n",
    "    return videos\n",
    "\n"
   ]
  },
  {
   "cell_type": "markdown",
   "metadata": {},
   "source": [
    "### Generate GOP dataset"
   ]
  },
  {
   "cell_type": "code",
   "execution_count": null,
   "metadata": {},
   "outputs": [],
   "source": [
    "def build_gop_dataset(videos, devices = [], media_types = [], properties = [], max_gops = 0, shuffle = True):\n",
    "    if shuffle:\n",
    "        random.shuffle(videos)\n",
    "    \n",
    "    iteration = 0\n",
    "    for url, device, media_type, property, name in videos:\n",
    "        if len(devices) > 0 and device not in devices:\n",
    "            continue\n",
    "\n",
    "        if len(media_types) > 0 and media_type not in media_types:\n",
    "            continue\n",
    "\n",
    "        if len(properties) > 0 and property not in properties:\n",
    "            continue\n",
    "\n",
    "        if iteration >= max_gops and max_gops > 0:\n",
    "            break\n",
    "\n",
    "        mp4_filename = os.path.join(DATASET_ROOT, device, media_type, property, name)\n",
    "        mp4_save_path = os.path.join(DATASET_ROOT, device, media_type, property)\n",
    "        if not os.path.exists(mp4_filename):\n",
    "            download(url, mp4_save_path)\n",
    "        \n",
    "        # extractor = H264Extractor(H264_BIN_PATH, os.path.join(PROJECT_PATH, '.vision-cache'))\n",
    "\n",
    "        # h264_filename = extractor.convert_to_h264(mp4_filename)\n",
    "        # yuv_filename, coded_data_filename = extractor.extract_yuv_and_codes(h264_filename)\n",
    "\n",
    "        # video_handler = VideoHandler(mp4_filename, h264_filename, yuv_filename, coded_data_filename)\n",
    "\n",
    "        # gop = Gop(video_handler, GOP_SIZE, FRAME_WIDTH, FRAME_HEIGHT)\n",
    "\n",
    "        # os.remove(h264_filename)\n",
    "        # os.remove(yuv_filename)\n",
    "        # os.remove(coded_data_filename)\n",
    "\n",
    "        # if os.path.exists(h264_filename) or os.path.exists(yuv_filename) or os.path.exists(coded_data_filename):\n",
    "        #     raise Exception('Error removing files')\n",
    "        \n",
    "        # gop_save_path = os.path.join(DATASET_ROOT + '_GOPS', device, media_type, property)\n",
    "        \n",
    "        # if not os.path.exists(gop_save_path):\n",
    "        #     os.makedirs(gop_save_path)\n",
    "        # pickle.dump(gop, open(os.path.join(gop_save_path, gop.video_handler.name) + f'_{GOP_SIZE}_{FRAME_WIDTH}x{FRAME_HEIGHT}.pkl', 'wb'))\n",
    "            \n",
    "        iteration += 1"
   ]
  },
  {
   "cell_type": "code",
   "execution_count": null,
   "metadata": {},
   "outputs": [],
   "source": [
    "videos = get_videos_structure_from_url_file(FILENAME)\n",
    "\n",
    "build_gop_dataset(videos, max_gops = 0, shuffle=False)"
   ]
  },
  {
   "cell_type": "markdown",
   "metadata": {},
   "source": [
    "### Open GOP dataset"
   ]
  },
  {
   "cell_type": "code",
   "execution_count": null,
   "metadata": {},
   "outputs": [],
   "source": [
    "gop_dataset_root = '/media/thomas/TN_SSD/h4vdm_datasets/VISION_GOPS'\n",
    "\n",
    "\n",
    "devices = os.listdir(gop_dataset_root)\n",
    "for device in devices:\n",
    "    media_types = os.listdir(os.path.join(gop_dataset_root, device))\n",
    "\n",
    "    for media_type in media_types:\n",
    "        properties = os.listdir(os.path.join(gop_dataset_root, device, media_type))\n",
    "\n",
    "        for property in properties:\n",
    "            files = os.listdir(os.path.join(gop_dataset_root, device, media_type, property))\n",
    "\n",
    "            for file in files:\n",
    "                read_gop = pickle.load(open(os.path.join(gop_dataset_root, device, media_type, property, file), 'rb'))\n",
    "                print(f'Processing {read_gop.video_handler.name} with {read_gop.length} frames')\n",
    "                print(inter_frame.shape for inter_frame in read_gop.inter_frames)\n",
    "                print(read_gop.intra_frame.shape)\n",
    "                \n",
    "    if True:\n",
    "        break\n"
   ]
  }
 ],
 "metadata": {
  "kernelspec": {
   "display_name": ".env",
   "language": "python",
   "name": "python3"
  },
  "language_info": {
   "codemirror_mode": {
    "name": "ipython",
    "version": 3
   },
   "file_extension": ".py",
   "mimetype": "text/x-python",
   "name": "python",
   "nbconvert_exporter": "python",
   "pygments_lexer": "ipython3",
   "version": "3.10.12"
  },
  "orig_nbformat": 4
 },
 "nbformat": 4,
 "nbformat_minor": 2
}
